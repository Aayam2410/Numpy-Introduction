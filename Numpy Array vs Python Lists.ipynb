{
 "cells": [
  {
   "cell_type": "markdown",
   "id": "fa7745b0",
   "metadata": {},
   "source": [
    "1. Numpy arrays are faster than python lists when used during Machine Learning. \n",
    "2. Arrays are more convenient than lists due to more functionalities.\n",
    "3. NumPy arrays occupy lesser memory than python lists."
   ]
  },
  {
   "cell_type": "code",
   "execution_count": 8,
   "id": "04903909",
   "metadata": {},
   "outputs": [],
   "source": [
    "import numpy as np\n",
    "import sys\n",
    "import time"
   ]
  },
  {
   "cell_type": "code",
   "execution_count": 2,
   "id": "d0e31d8e",
   "metadata": {},
   "outputs": [],
   "source": [
    "lista = range(100)\n",
    "arr1 = np.arange(100)"
   ]
  },
  {
   "cell_type": "markdown",
   "id": "61e6b151",
   "metadata": {},
   "source": [
    "### Lesser memory occupied"
   ]
  },
  {
   "cell_type": "code",
   "execution_count": 7,
   "id": "f0e55eba",
   "metadata": {},
   "outputs": [
    {
     "name": "stdout",
     "output_type": "stream",
     "text": [
      "2800 bytes\n",
      "400 bytes\n"
     ]
    }
   ],
   "source": [
    "# Proof for lesser memory occupied by NumPy Array\n",
    "print(sys.getsizeof(87) * len(lista), 'bytes')\n",
    "print(arr1.itemsize * arr1.size, 'bytes')"
   ]
  },
  {
   "cell_type": "markdown",
   "id": "06a7a511",
   "metadata": {},
   "source": [
    "### Faster execution"
   ]
  },
  {
   "cell_type": "code",
   "execution_count": 13,
   "id": "4326eef5",
   "metadata": {},
   "outputs": [
    {
     "name": "stdout",
     "output_type": "stream",
     "text": [
      "15.289195537567139\n"
     ]
    }
   ],
   "source": [
    "# Python lists\n",
    "x = range(100000000)\n",
    "y = range(100000000, 200000000)\n",
    "\n",
    "start_time = time.time() # iss moment pe joh time hai\n",
    "\n",
    "c = [x+y for x,y in zip(x,y)]\n",
    "\n",
    "print(time.time()-start_time)"
   ]
  },
  {
   "cell_type": "code",
   "execution_count": 14,
   "id": "3fafe26b",
   "metadata": {},
   "outputs": [
    {
     "name": "stdout",
     "output_type": "stream",
     "text": [
      "1.5799338817596436\n"
     ]
    }
   ],
   "source": [
    "# Numpy arrays\n",
    "a = np.arange(100000000)\n",
    "b = np.arange(100000000,200000000)\n",
    "\n",
    "start_time = time.time()\n",
    "c = a+b # More convenient\n",
    "print(time.time()-start_time)"
   ]
  }
 ],
 "metadata": {
  "kernelspec": {
   "display_name": "Python 3 (ipykernel)",
   "language": "python",
   "name": "python3"
  },
  "language_info": {
   "codemirror_mode": {
    "name": "ipython",
    "version": 3
   },
   "file_extension": ".py",
   "mimetype": "text/x-python",
   "name": "python",
   "nbconvert_exporter": "python",
   "pygments_lexer": "ipython3",
   "version": "3.9.7"
  }
 },
 "nbformat": 4,
 "nbformat_minor": 5
}
