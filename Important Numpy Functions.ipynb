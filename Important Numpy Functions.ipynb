{
 "cells": [
  {
   "cell_type": "code",
   "execution_count": 1,
   "id": "d657f459",
   "metadata": {},
   "outputs": [],
   "source": [
    "import numpy as np"
   ]
  },
  {
   "cell_type": "code",
   "execution_count": 2,
   "id": "f88ba103",
   "metadata": {},
   "outputs": [
    {
     "data": {
      "text/plain": [
       "0.9775554106077189"
      ]
     },
     "execution_count": 2,
     "metadata": {},
     "output_type": "execute_result"
    }
   ],
   "source": [
    "np.random.random()"
   ]
  },
  {
   "cell_type": "code",
   "execution_count": 4,
   "id": "5a4f4e3e",
   "metadata": {},
   "outputs": [
    {
     "data": {
      "text/plain": [
       "0.417022004702574"
      ]
     },
     "execution_count": 4,
     "metadata": {},
     "output_type": "execute_result"
    }
   ],
   "source": [
    "np.random.seed(1) # Same random value again and again\n",
    "np.random.random()"
   ]
  },
  {
   "cell_type": "code",
   "execution_count": 11,
   "id": "5bf590ef",
   "metadata": {},
   "outputs": [
    {
     "data": {
      "text/plain": [
       "5.418925089301334"
      ]
     },
     "execution_count": 11,
     "metadata": {},
     "output_type": "execute_result"
    }
   ],
   "source": [
    "np.random.uniform(3,10) #random value from 3 to 10"
   ]
  },
  {
   "cell_type": "code",
   "execution_count": 12,
   "id": "a1831bd2",
   "metadata": {},
   "outputs": [
    {
     "data": {
      "text/plain": [
       "array([40.27997995, 54.34285667, 42.50025693, 68.83673054, 21.24077272,\n",
       "       87.9336262 ,  3.71137173, 67.37628351, 42.31317543, 56.31029302])"
      ]
     },
     "execution_count": 12,
     "metadata": {},
     "output_type": "execute_result"
    }
   ],
   "source": [
    "np.random.uniform(1,100,10) #10 random values from 1 to 100"
   ]
  },
  {
   "cell_type": "code",
   "execution_count": 13,
   "id": "889de453",
   "metadata": {},
   "outputs": [
    {
     "data": {
      "text/plain": [
       "array([[14.89830692, 20.61204742, 80.2737123 , 96.857896  , 32.02899364],\n",
       "       [69.53993895, 87.76252608, 89.56605969,  9.41937693,  4.86642354]])"
      ]
     },
     "execution_count": 13,
     "metadata": {},
     "output_type": "execute_result"
    }
   ],
   "source": [
    "np.random.uniform(1,100,10).reshape(2,5)"
   ]
  },
  {
   "cell_type": "code",
   "execution_count": 26,
   "id": "ca44d9e0",
   "metadata": {},
   "outputs": [
    {
     "data": {
      "text/plain": [
       "44"
      ]
     },
     "execution_count": 26,
     "metadata": {},
     "output_type": "execute_result"
    }
   ],
   "source": [
    "np.random.randint(1,100)"
   ]
  },
  {
   "cell_type": "code",
   "execution_count": 28,
   "id": "c9786813",
   "metadata": {},
   "outputs": [
    {
     "data": {
      "text/plain": [
       "array([[83, 16, 65, 69, 26],\n",
       "       [99, 88,  8, 27, 26],\n",
       "       [23, 10, 68, 24, 28]])"
      ]
     },
     "execution_count": 28,
     "metadata": {},
     "output_type": "execute_result"
    }
   ],
   "source": [
    "np.random.randint(1,100,15).reshape(3,5)"
   ]
  },
  {
   "cell_type": "code",
   "execution_count": 30,
   "id": "d1526baa",
   "metadata": {},
   "outputs": [],
   "source": [
    "a = np.random.randint(1,10,6)"
   ]
  },
  {
   "cell_type": "code",
   "execution_count": 31,
   "id": "57708711",
   "metadata": {},
   "outputs": [
    {
     "data": {
      "text/plain": [
       "array([6, 4, 7, 9, 1, 3])"
      ]
     },
     "execution_count": 31,
     "metadata": {},
     "output_type": "execute_result"
    }
   ],
   "source": [
    "a"
   ]
  },
  {
   "cell_type": "code",
   "execution_count": 32,
   "id": "b8826215",
   "metadata": {},
   "outputs": [
    {
     "data": {
      "text/plain": [
       "9"
      ]
     },
     "execution_count": 32,
     "metadata": {},
     "output_type": "execute_result"
    }
   ],
   "source": [
    "a.max()"
   ]
  },
  {
   "cell_type": "code",
   "execution_count": 33,
   "id": "23f36b2d",
   "metadata": {},
   "outputs": [
    {
     "data": {
      "text/plain": [
       "1"
      ]
     },
     "execution_count": 33,
     "metadata": {},
     "output_type": "execute_result"
    }
   ],
   "source": [
    "a.min()"
   ]
  },
  {
   "cell_type": "code",
   "execution_count": 34,
   "id": "7011b07f",
   "metadata": {},
   "outputs": [
    {
     "data": {
      "text/plain": [
       "3"
      ]
     },
     "execution_count": 34,
     "metadata": {},
     "output_type": "execute_result"
    }
   ],
   "source": [
    "np.argmax(a) # index of max element"
   ]
  },
  {
   "cell_type": "code",
   "execution_count": 35,
   "id": "c15dc90d",
   "metadata": {},
   "outputs": [
    {
     "data": {
      "text/plain": [
       "4"
      ]
     },
     "execution_count": 35,
     "metadata": {},
     "output_type": "execute_result"
    }
   ],
   "source": [
    "np.argmin(a) #index of min element"
   ]
  },
  {
   "cell_type": "code",
   "execution_count": 48,
   "id": "663608b1",
   "metadata": {},
   "outputs": [
    {
     "data": {
      "text/plain": [
       "array([78,  7, 53, 86, 71,  3])"
      ]
     },
     "execution_count": 48,
     "metadata": {},
     "output_type": "execute_result"
    }
   ],
   "source": [
    "a = np.random.randint(1,100,6)\n",
    "a"
   ]
  },
  {
   "cell_type": "code",
   "execution_count": 49,
   "id": "c7557fe6",
   "metadata": {},
   "outputs": [
    {
     "data": {
      "text/plain": [
       "array([78, -1, -1, 86, -1, -1])"
      ]
     },
     "execution_count": 49,
     "metadata": {},
     "output_type": "execute_result"
    }
   ],
   "source": [
    "a[a%2==1] = -1 # inplace operation\n",
    "a"
   ]
  },
  {
   "cell_type": "code",
   "execution_count": 51,
   "id": "c16d1e09",
   "metadata": {},
   "outputs": [
    {
     "data": {
      "text/plain": [
       "array([77, 92, 22, 76,  8, 78])"
      ]
     },
     "execution_count": 51,
     "metadata": {},
     "output_type": "execute_result"
    }
   ],
   "source": [
    "# not inplace operation\n",
    "# where(condition,True,False)\n",
    "a = np.random.randint(1,100,6)\n",
    "a"
   ]
  },
  {
   "cell_type": "code",
   "execution_count": 54,
   "id": "d1126796",
   "metadata": {},
   "outputs": [
    {
     "data": {
      "text/plain": [
       "array([-1, 92, 22, 76,  8, 78])"
      ]
     },
     "execution_count": 54,
     "metadata": {},
     "output_type": "execute_result"
    }
   ],
   "source": [
    "b = np.where(a%2==1,-1,a) # not in place\n",
    "b"
   ]
  },
  {
   "cell_type": "code",
   "execution_count": 53,
   "id": "c1f3372c",
   "metadata": {},
   "outputs": [
    {
     "data": {
      "text/plain": [
       "array([77, 92, 22, 76,  8, 78])"
      ]
     },
     "execution_count": 53,
     "metadata": {},
     "output_type": "execute_result"
    }
   ],
   "source": [
    "a # original array"
   ]
  },
  {
   "cell_type": "code",
   "execution_count": 55,
   "id": "4ef045a2",
   "metadata": {},
   "outputs": [
    {
     "data": {
      "text/plain": [
       "array([73, 76, 77, 44, 21, 31, 37,  8, 46, 69])"
      ]
     },
     "execution_count": 55,
     "metadata": {},
     "output_type": "execute_result"
    }
   ],
   "source": [
    "a = np.random.randint(1,100,10)\n",
    "a"
   ]
  },
  {
   "cell_type": "code",
   "execution_count": 57,
   "id": "aa08f7f4",
   "metadata": {},
   "outputs": [
    {
     "data": {
      "text/plain": [
       "array([ 8, 21, 31, 37, 44, 46, 69, 73, 76, 77])"
      ]
     },
     "execution_count": 57,
     "metadata": {},
     "output_type": "execute_result"
    }
   ],
   "source": [
    "a = np.sort(a)\n",
    "a"
   ]
  },
  {
   "cell_type": "code",
   "execution_count": 59,
   "id": "009f47a2",
   "metadata": {},
   "outputs": [
    {
     "data": {
      "text/plain": [
       "44.1"
      ]
     },
     "execution_count": 59,
     "metadata": {},
     "output_type": "execute_result"
    }
   ],
   "source": [
    "# Percentile\n",
    "np.percentile(a,45)"
   ]
  },
  {
   "cell_type": "code",
   "execution_count": 60,
   "id": "055d6119",
   "metadata": {},
   "outputs": [
    {
     "data": {
      "text/plain": [
       "45.0"
      ]
     },
     "execution_count": 60,
     "metadata": {},
     "output_type": "execute_result"
    }
   ],
   "source": [
    "np.percentile(a,50)"
   ]
  },
  {
   "cell_type": "code",
   "execution_count": 61,
   "id": "b8017175",
   "metadata": {},
   "outputs": [
    {
     "data": {
      "text/plain": [
       "77.0"
      ]
     },
     "execution_count": 61,
     "metadata": {},
     "output_type": "execute_result"
    }
   ],
   "source": [
    "np.percentile(a,100)"
   ]
  },
  {
   "cell_type": "code",
   "execution_count": 62,
   "id": "1eb9c6bd",
   "metadata": {},
   "outputs": [
    {
     "data": {
      "text/plain": [
       "76.982"
      ]
     },
     "execution_count": 62,
     "metadata": {},
     "output_type": "execute_result"
    }
   ],
   "source": [
    "np.percentile(a,99.8)"
   ]
  }
 ],
 "metadata": {
  "kernelspec": {
   "display_name": "Python 3 (ipykernel)",
   "language": "python",
   "name": "python3"
  },
  "language_info": {
   "codemirror_mode": {
    "name": "ipython",
    "version": 3
   },
   "file_extension": ".py",
   "mimetype": "text/x-python",
   "name": "python",
   "nbconvert_exporter": "python",
   "pygments_lexer": "ipython3",
   "version": "3.9.7"
  }
 },
 "nbformat": 4,
 "nbformat_minor": 5
}
