{
 "cells": [
  {
   "cell_type": "code",
   "execution_count": 1,
   "id": "6ccacb47",
   "metadata": {},
   "outputs": [],
   "source": [
    "import numpy as np"
   ]
  },
  {
   "cell_type": "code",
   "execution_count": 2,
   "id": "dc579aa9",
   "metadata": {},
   "outputs": [
    {
     "data": {
      "text/plain": [
       "array([[74, 32, 27, 97, 36],\n",
       "       [88, 72, 73, 12, 80],\n",
       "       [13, 94, 86, 87, 76],\n",
       "       [ 8, 98, 74, 22, 71]])"
      ]
     },
     "execution_count": 2,
     "metadata": {},
     "output_type": "execute_result"
    }
   ],
   "source": [
    "arr = np.random.randint(low=1, high=100, size=20).reshape(4,5)\n",
    "arr"
   ]
  },
  {
   "cell_type": "code",
   "execution_count": 3,
   "id": "a03f4808",
   "metadata": {},
   "outputs": [
    {
     "data": {
      "text/plain": [
       "array([[ True, False, False,  True, False],\n",
       "       [ True,  True,  True, False,  True],\n",
       "       [False,  True,  True,  True,  True],\n",
       "       [False,  True,  True, False,  True]])"
      ]
     },
     "execution_count": 3,
     "metadata": {},
     "output_type": "execute_result"
    }
   ],
   "source": [
    "arr>50"
   ]
  },
  {
   "cell_type": "code",
   "execution_count": 4,
   "id": "40c89325",
   "metadata": {
    "scrolled": true
   },
   "outputs": [
    {
     "data": {
      "text/plain": [
       "(4, 5)"
      ]
     },
     "execution_count": 4,
     "metadata": {},
     "output_type": "execute_result"
    }
   ],
   "source": [
    "(arr>50).shape"
   ]
  },
  {
   "cell_type": "markdown",
   "id": "a491dd1b",
   "metadata": {},
   "source": [
    "### Indexing/Filtering using Boolean arrays"
   ]
  },
  {
   "cell_type": "code",
   "execution_count": 5,
   "id": "3f0857d9",
   "metadata": {},
   "outputs": [
    {
     "data": {
      "text/plain": [
       "array([74, 97, 88, 72, 73, 80, 94, 86, 87, 76, 98, 74, 71])"
      ]
     },
     "execution_count": 5,
     "metadata": {},
     "output_type": "execute_result"
    }
   ],
   "source": [
    "arr[arr>50]"
   ]
  },
  {
   "cell_type": "code",
   "execution_count": 6,
   "id": "e1b8bb85",
   "metadata": {},
   "outputs": [
    {
     "data": {
      "text/plain": [
       "array([97, 73, 87, 71])"
      ]
     },
     "execution_count": 6,
     "metadata": {},
     "output_type": "execute_result"
    }
   ],
   "source": [
    "arr[(arr>50) & (arr%2!=0)]"
   ]
  },
  {
   "cell_type": "code",
   "execution_count": 7,
   "id": "a514c3a3",
   "metadata": {},
   "outputs": [
    {
     "data": {
      "text/plain": [
       "array([[74, 32, 27,  0, 36],\n",
       "       [88, 72,  0, 12, 80],\n",
       "       [13, 94, 86,  0, 76],\n",
       "       [ 8, 98, 74, 22,  0]])"
      ]
     },
     "execution_count": 7,
     "metadata": {},
     "output_type": "execute_result"
    }
   ],
   "source": [
    "arr[(arr>50) & (arr%2!=0)] = 0\n",
    "arr"
   ]
  }
 ],
 "metadata": {
  "kernelspec": {
   "display_name": "Python 3 (ipykernel)",
   "language": "python",
   "name": "python3"
  },
  "language_info": {
   "codemirror_mode": {
    "name": "ipython",
    "version": 3
   },
   "file_extension": ".py",
   "mimetype": "text/x-python",
   "name": "python",
   "nbconvert_exporter": "python",
   "pygments_lexer": "ipython3",
   "version": "3.9.7"
  }
 },
 "nbformat": 4,
 "nbformat_minor": 5
}
