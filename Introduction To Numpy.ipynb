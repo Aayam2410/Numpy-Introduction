{
 "cells": [
  {
   "cell_type": "markdown",
   "id": "9ace50c9",
   "metadata": {},
   "source": [
    "### Introduction\n",
    "Numpy is a low level library written in C (and FORTRAN) for high level mathematical functions. Numpy cleverly overcomes the problem of running slower algorithms on Python by using multidimensional arrays and fucntions that operate on arrays. Any algorithm can then br expressed as a function on arrays, allowing the algorithms to be run quickly."
   ]
  },
  {
   "cell_type": "markdown",
   "id": "e9f78a91",
   "metadata": {},
   "source": [
    "### Applications\n",
    "1. a powerful N-dimensional array object\n",
    "2. sophisticated (broadcasting) functions\n",
    "3. tools for integrating C/C++ and FORTRAN code\n",
    "4. useful linear algebra, Fourier transform, and random number capabilities"
   ]
  },
  {
   "cell_type": "markdown",
   "id": "4fa4b368",
   "metadata": {},
   "source": [
    "### Properties\n",
    "1. Homogenous\n",
    "2. Only for numbers (int, float, complex) and string (generally not used)\n",
    "3. Fixed item size"
   ]
  }
 ],
 "metadata": {
  "kernelspec": {
   "display_name": "Python 3 (ipykernel)",
   "language": "python",
   "name": "python3"
  },
  "language_info": {
   "codemirror_mode": {
    "name": "ipython",
    "version": 3
   },
   "file_extension": ".py",
   "mimetype": "text/x-python",
   "name": "python",
   "nbconvert_exporter": "python",
   "pygments_lexer": "ipython3",
   "version": "3.9.7"
  }
 },
 "nbformat": 4,
 "nbformat_minor": 5
}
